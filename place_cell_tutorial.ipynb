{
 "cells": [
  {
   "cell_type": "markdown",
   "metadata": {},
   "source": [
    "# place cell tutorial\n",
    "Singer Lab Meeting - March 1st, 2021 "
   ]
  },
  {
   "cell_type": "code",
   "execution_count": 4,
   "metadata": {},
   "outputs": [],
   "source": [
    "#import libraries before we get started\n",
    "import numpy as np\n",
    "import pandas as pd"
   ]
  },
  {
   "cell_type": "markdown",
   "metadata": {},
   "source": [
    "### Introduction\n",
    "\n",
    "Let's say we performed an ephys recording from the hippocampus while an animal ran through a linear track. We want to identify place cells. To do this, we need to get from the raw spiking activity from all neurons to the spatial firing rate maps for spatially modulated cells. \n",
    "\n",
    "#insert pic here with the different steps of the analysis shown but only the start and the end visible\n",
    "\n",
    "### Section 1 - converting raw data into data by position\n",
    "\n",
    "Let's start with the raw(-ish) data. For each neuron, we have a vector of spike counts and positions for the whole recording. The data is structured like below:\n",
    "\n",
    "#show image of raw spike trains x neurons \n",
    "\n",
    "When we look at our data in code form, it looks like this:"
   ]
  },
  {
   "cell_type": "code",
   "execution_count": 6,
   "metadata": {},
   "outputs": [],
   "source": [
    "#insert matrix of spike counts and time here\n",
    "#df = pd.load(toy_data) #toy data is a matrix samplesxtime,position,neuron1,neuron2,neuron3, etc.\n",
    "#print(spikes)\n",
    "#print(position)"
   ]
  },
  {
   "cell_type": "markdown",
   "metadata": {},
   "source": [
    "First, we want to get our data put in terms of position and make a *spike counts map*. What this means is that for each neuron, we want to know how many spikes occurred in each position in the track. To do this we will count the number of spikes in each position bin. So if the track is 100m long, we will first count the spikes in the first 1-10m from the start of the track, then  11-20m from the start, then 21-30m, etc. "
   ]
  },
  {
   "cell_type": "code",
   "execution_count": 7,
   "metadata": {},
   "outputs": [],
   "source": [
    "#insert code here to convert from raw data to position data\n",
    "\n",
    "#print(spikecounts_map)"
   ]
  },
  {
   "cell_type": "markdown",
   "metadata": {},
   "source": [
    "Now we have a *spike counts map.* But that won't be enough information to get our place cells, because we also need to know how long the animal spent in each position. If the animal spent a lot of time consuming reward at the end of the track, there will be a LOT of spikes in that location, but that could be due entirely to the time spent in that location. So we now want to get an *occupancy map* to account for time."
   ]
  },
  {
   "cell_type": "code",
   "execution_count": 8,
   "metadata": {},
   "outputs": [],
   "source": [
    "#insert code here to get occupancy map\n",
    "\n",
    "#print(occupancy_map)"
   ]
  },
  {
   "cell_type": "markdown",
   "metadata": {},
   "source": [
    "### Section 2 - generating our spatial maps\n",
    "We now have a spike counts map and an occupancy map. The raw data can be a bit messy across different position bins, so to clean this up we will smooth the maps. After smoothing the maps, we will combine them in order to get our final spatial map (spike counts normalized by occupancy) for each neuron.  "
   ]
  },
  {
   "cell_type": "code",
   "execution_count": null,
   "metadata": {},
   "outputs": [],
   "source": [
    "#spikecounts_map_smooth = spikecounts_map\n",
    "#occupancy_map_smooth = occupancy_map"
   ]
  },
  {
   "cell_type": "code",
   "execution_count": 10,
   "metadata": {},
   "outputs": [],
   "source": [
    "#spatial_map = spikecounts_map/occupancy_map\n",
    "#print(spatial_map)"
   ]
  },
  {
   "cell_type": "markdown",
   "metadata": {},
   "source": [
    "### Section 3 - identifying place cells\n",
    "Now we have a spatial map for every neuron, but that doesn't mean that every neuron is spatially modulated. What we want to do is identify place cells, or neurons that *are* spatially modulated. There are many different ways to do this (spatial info, reliability, thresholds, etc.), but for the purposes of this tutorial we will use some simple criteria"
   ]
  },
  {
   "cell_type": "code",
   "execution_count": 11,
   "metadata": {},
   "outputs": [],
   "source": [
    "#exclusion_criteria\n",
    "#inclusion_criteria\n",
    "#place_cell_maps\n",
    "#make figure of place cells here "
   ]
  },
  {
   "cell_type": "markdown",
   "metadata": {},
   "source": [
    "#insert picture of the full analysis process here\n",
    "\n",
    "### Section 4 - Future directions and other notes\n",
    "\n",
    "You now have identified place cells! You can use these place cells in other analyses, such as place cell reactivation, theta phase precession. You can also look at the spatial map features in more detail such as identifying place fields, peak firing rates, spatial info, etc. \n",
    "\n",
    "For real data, you will need to account for some other things such as empty position bins with zero occupancy or spatial areas with multiple dimensions. The criteria you apply to classify place/non-place cells is also important and can give you different results depending on which ones you choose to apply."
   ]
  }
 ],
 "metadata": {
  "kernelspec": {
   "display_name": "Python 3",
   "language": "python",
   "name": "python3"
  },
  "language_info": {
   "codemirror_mode": {
    "name": "ipython",
    "version": 3
   },
   "file_extension": ".py",
   "mimetype": "text/x-python",
   "name": "python",
   "nbconvert_exporter": "python",
   "pygments_lexer": "ipython3",
   "version": "3.7.4"
  }
 },
 "nbformat": 4,
 "nbformat_minor": 4
}
